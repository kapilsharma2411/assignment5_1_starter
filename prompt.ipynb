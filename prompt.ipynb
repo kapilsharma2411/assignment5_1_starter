{
  "cells": [
    {
      "cell_type": "markdown",
      "metadata": {
        "id": "CcUT6Fon_qRE"
      },
      "source": [
        "### Required Assignment 5.1: Will the Customer Accept the Coupon?\n",
        "\n",
        "**Context**\n",
        "\n",
        "Imagine driving through town and a coupon is delivered to your cell phone for a restaurant near where you are driving. Would you accept that coupon and take a short detour to the restaurant? Would you accept the coupon but use it on a subsequent trip? Would you ignore the coupon entirely? What if the coupon was for a bar instead of a restaurant? What about a coffee house? Would you accept a bar coupon with a minor passenger in the car? What about if it was just you and your partner in the car? Would weather impact the rate of acceptance? What about the time of day?\n",
        "\n",
        "Obviously, proximity to the business is a factor on whether the coupon is delivered to the driver or not, but what are the factors that determine whether a driver accepts the coupon once it is delivered to them? How would you determine whether a driver is likely to accept a coupon?\n",
        "\n",
        "**Overview**\n",
        "\n",
        "The goal of this project is to use what you know about visualizations and probability distributions to distinguish between customers who accepted a driving coupon versus those that did not.\n",
        "\n",
        "**Data**\n",
        "\n",
        "This data comes to us from the UCI Machine Learning repository and was collected via a survey on Amazon Mechanical Turk. The survey describes different driving scenarios including the destination, current time, weather, passenger, etc., and then ask the person whether he will accept the coupon if he is the driver. Answers that the user will drive there ‘right away’ or ‘later before the coupon expires’ are labeled as ‘Y = 1’ and answers ‘no, I do not want the coupon’ are labeled as ‘Y = 0’.  There are five different types of coupons -- less expensive restaurants (under \\$20), coffee houses, carry out & take away, bar, and more expensive restaurants (\\$20 - $50)."
      ]
    },
    {
      "cell_type": "markdown",
      "metadata": {
        "id": "1wORvMBJ_qRF"
      },
      "source": [
        "**Deliverables**\n",
        "\n",
        "Your final product should be a brief report that highlights the differences between customers who did and did not accept the coupons.  To explore the data you will utilize your knowledge of plotting, statistical summaries, and visualization using Python. You will publish your findings in a public facing github repository as your first portfolio piece.\n",
        "\n",
        "\n",
        "\n"
      ]
    },
    {
      "cell_type": "markdown",
      "metadata": {
        "id": "pG6_Ym6q_qRG"
      },
      "source": [
        "### Data Description\n",
        "Keep in mind that these values mentioned below are average values.\n",
        "\n",
        "The attributes of this data set include:\n",
        "1. User attributes\n",
        "    -  Gender: male, female\n",
        "    -  Age: below 21, 21 to 25, 26 to 30, etc.\n",
        "    -  Marital Status: single, married partner, unmarried partner, or widowed\n",
        "    -  Number of children: 0, 1, or more than 1\n",
        "    -  Education: high school, bachelors degree, associates degree, or graduate degree\n",
        "    -  Occupation: architecture & engineering, business & financial, etc.\n",
        "    -  Annual income: less than \\\\$12500, \\\\$12500 - \\\\$24999, \\\\$25000 - \\\\$37499, etc.\n",
        "    -  Number of times that he/she goes to a bar: 0, less than 1, 1 to 3, 4 to 8 or greater than 8\n",
        "    -  Number of times that he/she buys takeaway food: 0, less than 1, 1 to 3, 4 to 8 or greater\n",
        "    than 8\n",
        "    -  Number of times that he/she goes to a coffee house: 0, less than 1, 1 to 3, 4 to 8 or\n",
        "    greater than 8\n",
        "    -  Number of times that he/she eats at a restaurant with average expense less than \\\\$20 per\n",
        "    person: 0, less than 1, 1 to 3, 4 to 8 or greater than 8\n",
        "    -  Number of times that he/she goes to a bar: 0, less than 1, 1 to 3, 4 to 8 or greater than 8\n",
        "    \n",
        "\n",
        "2. Contextual attributes\n",
        "    - Driving destination: home, work, or no urgent destination\n",
        "    - Location of user, coupon and destination: we provide a map to show the geographical\n",
        "    location of the user, destination, and the venue, and we mark the distance between each\n",
        "    two places with time of driving. The user can see whether the venue is in the same\n",
        "    direction as the destination.\n",
        "    - Weather: sunny, rainy, or snowy\n",
        "    - Temperature: 30F, 55F, or 80F\n",
        "    - Time: 10AM, 2PM, or 6PM\n",
        "    - Passenger: alone, partner, kid(s), or friend(s)\n",
        "\n",
        "\n",
        "3. Coupon attributes\n",
        "    - time before it expires: 2 hours or one day"
      ]
    },
    {
      "cell_type": "code",
      "execution_count": 5,
      "metadata": {
        "id": "dzNoP3o__qRG"
      },
      "outputs": [],
      "source": [
        "import matplotlib.pyplot as plt\n",
        "import seaborn as sns\n",
        "import pandas as pd\n",
        "import numpy as np"
      ]
    },
    {
      "cell_type": "markdown",
      "metadata": {
        "id": "Ct8pI1uE_qRG"
      },
      "source": [
        "### Problems\n",
        "\n",
        "Use the prompts below to get started with your data analysis.  \n",
        "\n",
        "1. Read in the `coupons.csv` file.\n",
        "\n",
        "\n"
      ]
    },
    {
      "cell_type": "code",
      "execution_count": 30,
      "metadata": {
        "id": "X0vbffYg_qRH"
      },
      "outputs": [],
      "source": [
        "data = pd.read_csv('data/coupons.csv')"
      ]
    },
    {
      "cell_type": "code",
      "execution_count": 31,
      "metadata": {
        "id": "TXofQ_DF_qRH",
        "outputId": "2fc96a2c-1112-4b54-f24f-dbb9bc88abfb"
      },
      "outputs": [
        {
          "data": {
            "text/html": [
              "<div>\n",
              "<style scoped>\n",
              "    .dataframe tbody tr th:only-of-type {\n",
              "        vertical-align: middle;\n",
              "    }\n",
              "\n",
              "    .dataframe tbody tr th {\n",
              "        vertical-align: top;\n",
              "    }\n",
              "\n",
              "    .dataframe thead th {\n",
              "        text-align: right;\n",
              "    }\n",
              "</style>\n",
              "<table border=\"1\" class=\"dataframe\">\n",
              "  <thead>\n",
              "    <tr style=\"text-align: right;\">\n",
              "      <th></th>\n",
              "      <th>destination</th>\n",
              "      <th>passanger</th>\n",
              "      <th>weather</th>\n",
              "      <th>temperature</th>\n",
              "      <th>time</th>\n",
              "      <th>coupon</th>\n",
              "      <th>expiration</th>\n",
              "      <th>gender</th>\n",
              "      <th>age</th>\n",
              "      <th>maritalStatus</th>\n",
              "      <th>...</th>\n",
              "      <th>CoffeeHouse</th>\n",
              "      <th>CarryAway</th>\n",
              "      <th>RestaurantLessThan20</th>\n",
              "      <th>Restaurant20To50</th>\n",
              "      <th>toCoupon_GEQ5min</th>\n",
              "      <th>toCoupon_GEQ15min</th>\n",
              "      <th>toCoupon_GEQ25min</th>\n",
              "      <th>direction_same</th>\n",
              "      <th>direction_opp</th>\n",
              "      <th>Y</th>\n",
              "    </tr>\n",
              "  </thead>\n",
              "  <tbody>\n",
              "    <tr>\n",
              "      <th>0</th>\n",
              "      <td>No Urgent Place</td>\n",
              "      <td>Alone</td>\n",
              "      <td>Sunny</td>\n",
              "      <td>55</td>\n",
              "      <td>2PM</td>\n",
              "      <td>Restaurant(&lt;20)</td>\n",
              "      <td>1d</td>\n",
              "      <td>Female</td>\n",
              "      <td>21</td>\n",
              "      <td>Unmarried partner</td>\n",
              "      <td>...</td>\n",
              "      <td>never</td>\n",
              "      <td>NaN</td>\n",
              "      <td>4~8</td>\n",
              "      <td>1~3</td>\n",
              "      <td>1</td>\n",
              "      <td>0</td>\n",
              "      <td>0</td>\n",
              "      <td>0</td>\n",
              "      <td>1</td>\n",
              "      <td>1</td>\n",
              "    </tr>\n",
              "    <tr>\n",
              "      <th>1</th>\n",
              "      <td>No Urgent Place</td>\n",
              "      <td>Friend(s)</td>\n",
              "      <td>Sunny</td>\n",
              "      <td>80</td>\n",
              "      <td>10AM</td>\n",
              "      <td>Coffee House</td>\n",
              "      <td>2h</td>\n",
              "      <td>Female</td>\n",
              "      <td>21</td>\n",
              "      <td>Unmarried partner</td>\n",
              "      <td>...</td>\n",
              "      <td>never</td>\n",
              "      <td>NaN</td>\n",
              "      <td>4~8</td>\n",
              "      <td>1~3</td>\n",
              "      <td>1</td>\n",
              "      <td>0</td>\n",
              "      <td>0</td>\n",
              "      <td>0</td>\n",
              "      <td>1</td>\n",
              "      <td>0</td>\n",
              "    </tr>\n",
              "    <tr>\n",
              "      <th>2</th>\n",
              "      <td>No Urgent Place</td>\n",
              "      <td>Friend(s)</td>\n",
              "      <td>Sunny</td>\n",
              "      <td>80</td>\n",
              "      <td>10AM</td>\n",
              "      <td>Carry out &amp; Take away</td>\n",
              "      <td>2h</td>\n",
              "      <td>Female</td>\n",
              "      <td>21</td>\n",
              "      <td>Unmarried partner</td>\n",
              "      <td>...</td>\n",
              "      <td>never</td>\n",
              "      <td>NaN</td>\n",
              "      <td>4~8</td>\n",
              "      <td>1~3</td>\n",
              "      <td>1</td>\n",
              "      <td>1</td>\n",
              "      <td>0</td>\n",
              "      <td>0</td>\n",
              "      <td>1</td>\n",
              "      <td>1</td>\n",
              "    </tr>\n",
              "    <tr>\n",
              "      <th>3</th>\n",
              "      <td>No Urgent Place</td>\n",
              "      <td>Friend(s)</td>\n",
              "      <td>Sunny</td>\n",
              "      <td>80</td>\n",
              "      <td>2PM</td>\n",
              "      <td>Coffee House</td>\n",
              "      <td>2h</td>\n",
              "      <td>Female</td>\n",
              "      <td>21</td>\n",
              "      <td>Unmarried partner</td>\n",
              "      <td>...</td>\n",
              "      <td>never</td>\n",
              "      <td>NaN</td>\n",
              "      <td>4~8</td>\n",
              "      <td>1~3</td>\n",
              "      <td>1</td>\n",
              "      <td>1</td>\n",
              "      <td>0</td>\n",
              "      <td>0</td>\n",
              "      <td>1</td>\n",
              "      <td>0</td>\n",
              "    </tr>\n",
              "    <tr>\n",
              "      <th>4</th>\n",
              "      <td>No Urgent Place</td>\n",
              "      <td>Friend(s)</td>\n",
              "      <td>Sunny</td>\n",
              "      <td>80</td>\n",
              "      <td>2PM</td>\n",
              "      <td>Coffee House</td>\n",
              "      <td>1d</td>\n",
              "      <td>Female</td>\n",
              "      <td>21</td>\n",
              "      <td>Unmarried partner</td>\n",
              "      <td>...</td>\n",
              "      <td>never</td>\n",
              "      <td>NaN</td>\n",
              "      <td>4~8</td>\n",
              "      <td>1~3</td>\n",
              "      <td>1</td>\n",
              "      <td>1</td>\n",
              "      <td>0</td>\n",
              "      <td>0</td>\n",
              "      <td>1</td>\n",
              "      <td>0</td>\n",
              "    </tr>\n",
              "  </tbody>\n",
              "</table>\n",
              "<p>5 rows × 26 columns</p>\n",
              "</div>"
            ],
            "text/plain": [
              "       destination  passanger weather  temperature  time  \\\n",
              "0  No Urgent Place      Alone   Sunny           55   2PM   \n",
              "1  No Urgent Place  Friend(s)   Sunny           80  10AM   \n",
              "2  No Urgent Place  Friend(s)   Sunny           80  10AM   \n",
              "3  No Urgent Place  Friend(s)   Sunny           80   2PM   \n",
              "4  No Urgent Place  Friend(s)   Sunny           80   2PM   \n",
              "\n",
              "                  coupon expiration  gender age      maritalStatus  ...  \\\n",
              "0        Restaurant(<20)         1d  Female  21  Unmarried partner  ...   \n",
              "1           Coffee House         2h  Female  21  Unmarried partner  ...   \n",
              "2  Carry out & Take away         2h  Female  21  Unmarried partner  ...   \n",
              "3           Coffee House         2h  Female  21  Unmarried partner  ...   \n",
              "4           Coffee House         1d  Female  21  Unmarried partner  ...   \n",
              "\n",
              "   CoffeeHouse CarryAway RestaurantLessThan20 Restaurant20To50  \\\n",
              "0        never       NaN                  4~8              1~3   \n",
              "1        never       NaN                  4~8              1~3   \n",
              "2        never       NaN                  4~8              1~3   \n",
              "3        never       NaN                  4~8              1~3   \n",
              "4        never       NaN                  4~8              1~3   \n",
              "\n",
              "  toCoupon_GEQ5min toCoupon_GEQ15min toCoupon_GEQ25min direction_same  \\\n",
              "0                1                 0                 0              0   \n",
              "1                1                 0                 0              0   \n",
              "2                1                 1                 0              0   \n",
              "3                1                 1                 0              0   \n",
              "4                1                 1                 0              0   \n",
              "\n",
              "  direction_opp  Y  \n",
              "0             1  1  \n",
              "1             1  0  \n",
              "2             1  1  \n",
              "3             1  0  \n",
              "4             1  0  \n",
              "\n",
              "[5 rows x 26 columns]"
            ]
          },
          "execution_count": 31,
          "metadata": {},
          "output_type": "execute_result"
        }
      ],
      "source": [
        "data.head()"
      ]
    },
    {
      "cell_type": "markdown",
      "metadata": {
        "id": "GcDs78ZH_qRH"
      },
      "source": [
        "2. Investigate the dataset for missing or problematic data."
      ]
    },
    {
      "cell_type": "code",
      "execution_count": 32,
      "metadata": {},
      "outputs": [
        {
          "name": "stdout",
          "output_type": "stream",
          "text": [
            "Number of entries with no car: 12576\n"
          ]
        }
      ],
      "source": [
        "#Let's find if car ownership has any effect on coupon usage\n",
        "dfNoCar = data[data['car'].isnull()]\n",
        "print(f\"Number of entries with no car: {len(dfNoCar)}\")\n",
        "\n",
        "#Total of 12576 data entries have no car information on this dataset. It means that Car information is not significantly impacting the coupon usage."
      ]
    },
    {
      "cell_type": "code",
      "execution_count": 33,
      "metadata": {
        "id": "6CwL6oWj_qRH"
      },
      "outputs": [
        {
          "name": "stdout",
          "output_type": "stream",
          "text": [
            "107\n",
            "217\n",
            "130\n",
            "189\n"
          ]
        }
      ],
      "source": [
        "#Let's find nulls for other columns\n",
        "BarNulls = data[data['Bar'].isnull()]\n",
        "print(len(BarNulls))#107 entries have no Bar information\n",
        "\n",
        "CoffeeHouseNulls = data[data['CoffeeHouse'].isnull()]\n",
        "print(len(CoffeeHouseNulls))#217 entries have no CoffeeHouse information\n",
        "\n",
        "LessThan20Nulls = data[data['RestaurantLessThan20'].isnull()]\n",
        "print(len(LessThan20Nulls))#130 entries have no entries for \"Restaurants less than 20\" information\n",
        "\n",
        "Restaurant20To50Nulls = data[data['Restaurant20To50'].isnull()]\n",
        "print(len(Restaurant20To50Nulls))#189 entries have no entries for \"Restaurants 20 to 50\" information\n"
      ]
    },
    {
      "cell_type": "markdown",
      "metadata": {
        "id": "bSdVSpYB_qRH"
      },
      "source": [
        "3. Decide what to do about your missing data -- drop, replace, other..."
      ]
    },
    {
      "cell_type": "code",
      "execution_count": 97,
      "metadata": {
        "id": "tyvoAC5F_qRI"
      },
      "outputs": [
        {
          "name": "stdout",
          "output_type": "stream",
          "text": [
            "12684\n"
          ]
        },
        {
          "name": "stderr",
          "output_type": "stream",
          "text": [
            "C:\\Users\\kskap\\AppData\\Local\\Temp\\ipykernel_16920\\1386266577.py:6: SettingWithCopyWarning: \n",
            "A value is trying to be set on a copy of a slice from a DataFrame.\n",
            "Try using .loc[row_indexer,col_indexer] = value instead\n",
            "\n",
            "See the caveats in the documentation: https://pandas.pydata.org/pandas-docs/stable/user_guide/indexing.html#returning-a-view-versus-a-copy\n",
            "  filtereddata['income'] = filtereddata['income'].replace('Less than $12500', 0)\n",
            "C:\\Users\\kskap\\AppData\\Local\\Temp\\ipykernel_16920\\1386266577.py:7: SettingWithCopyWarning: \n",
            "A value is trying to be set on a copy of a slice from a DataFrame.\n",
            "Try using .loc[row_indexer,col_indexer] = value instead\n",
            "\n",
            "See the caveats in the documentation: https://pandas.pydata.org/pandas-docs/stable/user_guide/indexing.html#returning-a-view-versus-a-copy\n",
            "  filtereddata['income'] = filtereddata['income'].replace('$12500 - $24999', 1)\n",
            "C:\\Users\\kskap\\AppData\\Local\\Temp\\ipykernel_16920\\1386266577.py:8: SettingWithCopyWarning: \n",
            "A value is trying to be set on a copy of a slice from a DataFrame.\n",
            "Try using .loc[row_indexer,col_indexer] = value instead\n",
            "\n",
            "See the caveats in the documentation: https://pandas.pydata.org/pandas-docs/stable/user_guide/indexing.html#returning-a-view-versus-a-copy\n",
            "  filtereddata['income'] = filtereddata['income'].replace('$25000 - $37499', 2)\n",
            "C:\\Users\\kskap\\AppData\\Local\\Temp\\ipykernel_16920\\1386266577.py:9: SettingWithCopyWarning: \n",
            "A value is trying to be set on a copy of a slice from a DataFrame.\n",
            "Try using .loc[row_indexer,col_indexer] = value instead\n",
            "\n",
            "See the caveats in the documentation: https://pandas.pydata.org/pandas-docs/stable/user_guide/indexing.html#returning-a-view-versus-a-copy\n",
            "  filtereddata['income'] = filtereddata['income'].replace('$37500 - $49999', 3)\n",
            "C:\\Users\\kskap\\AppData\\Local\\Temp\\ipykernel_16920\\1386266577.py:10: SettingWithCopyWarning: \n",
            "A value is trying to be set on a copy of a slice from a DataFrame.\n",
            "Try using .loc[row_indexer,col_indexer] = value instead\n",
            "\n",
            "See the caveats in the documentation: https://pandas.pydata.org/pandas-docs/stable/user_guide/indexing.html#returning-a-view-versus-a-copy\n",
            "  filtereddata['income'] = filtereddata['income'].replace('$50000 - $62499', 4)\n",
            "C:\\Users\\kskap\\AppData\\Local\\Temp\\ipykernel_16920\\1386266577.py:11: SettingWithCopyWarning: \n",
            "A value is trying to be set on a copy of a slice from a DataFrame.\n",
            "Try using .loc[row_indexer,col_indexer] = value instead\n",
            "\n",
            "See the caveats in the documentation: https://pandas.pydata.org/pandas-docs/stable/user_guide/indexing.html#returning-a-view-versus-a-copy\n",
            "  filtereddata['income'] = filtereddata['income'].replace('$62500 - $74999', 5)\n",
            "C:\\Users\\kskap\\AppData\\Local\\Temp\\ipykernel_16920\\1386266577.py:12: SettingWithCopyWarning: \n",
            "A value is trying to be set on a copy of a slice from a DataFrame.\n",
            "Try using .loc[row_indexer,col_indexer] = value instead\n",
            "\n",
            "See the caveats in the documentation: https://pandas.pydata.org/pandas-docs/stable/user_guide/indexing.html#returning-a-view-versus-a-copy\n",
            "  filtereddata['income'] = filtereddata['income'].replace('$75000 - $87499', 6)\n",
            "C:\\Users\\kskap\\AppData\\Local\\Temp\\ipykernel_16920\\1386266577.py:13: SettingWithCopyWarning: \n",
            "A value is trying to be set on a copy of a slice from a DataFrame.\n",
            "Try using .loc[row_indexer,col_indexer] = value instead\n",
            "\n",
            "See the caveats in the documentation: https://pandas.pydata.org/pandas-docs/stable/user_guide/indexing.html#returning-a-view-versus-a-copy\n",
            "  filtereddata['income'] = filtereddata['income'].replace('$87500 - $99999', 7)\n",
            "C:\\Users\\kskap\\AppData\\Local\\Temp\\ipykernel_16920\\1386266577.py:14: SettingWithCopyWarning: \n",
            "A value is trying to be set on a copy of a slice from a DataFrame.\n",
            "Try using .loc[row_indexer,col_indexer] = value instead\n",
            "\n",
            "See the caveats in the documentation: https://pandas.pydata.org/pandas-docs/stable/user_guide/indexing.html#returning-a-view-versus-a-copy\n",
            "  filtereddata['income'] = filtereddata['income'].replace('$100000 or More', 8)\n"
          ]
        }
      ],
      "source": [
        "#As we can see, there are very few nulls in the dataset. We can drop these rows without having much impact on the dataset.\n",
        "filtereddata = data.dropna(subset=['Bar', 'CoffeeHouse', 'RestaurantLessThan20', 'Restaurant20To50'])\n",
        "print(len(data))#After dropping nulls, we have 12065 entries remaining\n",
        "\n",
        "#Also, replace some data in income column to make it more meaningful\n",
        "filtereddata['income'] = filtereddata['income'].replace('Less than $12500', 0)\n",
        "filtereddata['income'] = filtereddata['income'].replace('$12500 - $24999', 1)\n",
        "filtereddata['income'] = filtereddata['income'].replace('$25000 - $37499', 2)\n",
        "filtereddata['income'] = filtereddata['income'].replace('$37500 - $49999', 3)\n",
        "filtereddata['income'] = filtereddata['income'].replace('$50000 - $62499', 4)\n",
        "filtereddata['income'] = filtereddata['income'].replace('$62500 - $74999', 5)\n",
        "filtereddata['income'] = filtereddata['income'].replace('$75000 - $87499', 6)\n",
        "filtereddata['income'] = filtereddata['income'].replace('$87500 - $99999', 7)\n",
        "filtereddata['income'] = filtereddata['income'].replace('$100000 or More', 8)"
      ]
    },
    {
      "cell_type": "markdown",
      "metadata": {
        "id": "YE6oJbXd_qRI"
      },
      "source": [
        "4. What proportion of the total observations chose to accept the coupon?\n",
        "\n"
      ]
    },
    {
      "cell_type": "code",
      "execution_count": 98,
      "metadata": {
        "id": "86GGqBTv_qRI"
      },
      "outputs": [
        {
          "name": "stdout",
          "output_type": "stream",
          "text": [
            "12188\n",
            "Y\n",
            "1    0.570151\n",
            "0    0.429849\n",
            "Name: proportion, dtype: float64\n"
          ]
        }
      ],
      "source": [
        "#After dropping nulls, we have 12188 entries remaining\n",
        "print(len(filtereddata))\n",
        "proportion = filtereddata['Y'].value_counts(normalize=True)\n",
        "print(proportion)\n",
        "#So we have 57% of entries with coupon used and 43% of entries with coupon not used in current dataset."
      ]
    },
    {
      "cell_type": "markdown",
      "metadata": {
        "id": "vflz0DoE_qRI"
      },
      "source": [
        "5. Use a bar plot to visualize the `coupon` column."
      ]
    },
    {
      "cell_type": "code",
      "execution_count": 99,
      "metadata": {
        "id": "dHFh3E45_qRI"
      },
      "outputs": [
        {
          "data": {
            "image/png": "[encoded data removed]",
            "text/plain": [
              "<Figure size 640x480 with 1 Axes>"
            ]
          },
          "metadata": {},
          "output_type": "display_data"
        }
      ],
      "source": [
        "filtereddata['coupon'].value_counts().plot(kind='bar')\n",
        "plt.title('Coupon Usage Distribution')\n",
        "plt.xlabel('Coupon Type')\n",
        "plt.ylabel('Count')\n",
        "plt.xticks(rotation=45)\n",
        "plt.show()\n",
        "#The Coupon usage distribution is clearly left-skewed, indicating that coffee house coupons are used more frequently than other types of coupons. Alternatively, it could also indicate that coffee house coupons are more frequently offered or available in the dataset. Finally, below bar distibution also shows that restaurant > $20 are the least used coupons in this dataset."
      ]
    },
    {
      "cell_type": "markdown",
      "metadata": {
        "id": "Qw4lCyx2_qRI"
      },
      "source": [
        "6. Use a histogram to visualize the temperature column."
      ]
    },
    {
      "cell_type": "code",
      "execution_count": 100,
      "metadata": {
        "id": "Yg9Anv71_qRI"
      },
      "outputs": [
        {
          "data": {
            "image/png": "[encoded data removed]",
            "text/plain": [
              "<Figure size 640x480 with 1 Axes>"
            ]
          },
          "metadata": {},
          "output_type": "display_data"
        }
      ],
      "source": [
        "sns.histplot(data=filtereddata, x='temperature', bins=20, kde=True)\n",
        "plt.title('Temperature Distribution')\n",
        "plt.xlabel('Temperature')\n",
        "plt.ylabel('Frequency')\n",
        "plt.show()\n",
        "#The temperature distribution is slightly left-skewed, indicating that there are more instances of higher temperatures compared to lower temperatures."
      ]
    },
    {
      "cell_type": "markdown",
      "metadata": {
        "id": "FupfgeJk_qRJ"
      },
      "source": [
        "**Investigating the Bar Coupons**\n",
        "\n",
        "Now, we will lead you through an exploration of just the bar related coupons.  \n",
        "\n",
        "1. Create a new `DataFrame` that contains just the bar coupons.\n"
      ]
    },
    {
      "cell_type": "code",
      "execution_count": 101,
      "metadata": {
        "id": "tMBlWuGq_qRJ"
      },
      "outputs": [
        {
          "data": {
            "image/png": "[encoded data removed]",
            "text/plain": [
              "<Figure size 640x480 with 1 Axes>"
            ]
          },
          "metadata": {},
          "output_type": "display_data"
        }
      ],
      "source": [
        "dfBar = filtereddata[filtereddata['coupon'] == 'Bar']\n",
        "dfBar['Bar'].value_counts().plot(kind='bar')\n",
        "plt.title('Bar Visit Frequency')\n",
        "plt.xlabel('Bar Visit Frequency')\n",
        "plt.ylabel('Count')\n",
        "plt.xticks(rotation=45)\n",
        "plt.show()\n",
        "#Most people never visited bar, followed by less than once a week. Very few people visit bar more than 4 times a week.\n",
        "#print(len(dfBar))#Total of 1928 entries used Bar coupons"
      ]
    },
    {
      "cell_type": "markdown",
      "metadata": {
        "id": "8ue6uCqf_qRJ"
      },
      "source": [
        "2. What proportion of bar coupons were accepted?\n"
      ]
    },
    {
      "cell_type": "code",
      "execution_count": 102,
      "metadata": {
        "id": "hSdte8Mi_qRK"
      },
      "outputs": [
        {
          "name": "stdout",
          "output_type": "stream",
          "text": [
            "Proportion of Bar coupons accepted: 0.41\n",
            "Accepted: 799\n",
            "Not accepted: 1129\n"
          ]
        }
      ],
      "source": [
        "proportionBarAccepted = dfBar['Y'].mean()\n",
        "print(f\"Proportion of Bar coupons accepted: {proportionBarAccepted:.2f}\")\n",
        "#So, 41% of Bar coupons were accepted.\n",
        "\n",
        "accepted = (dfBar['Y'] == 1).sum()\n",
        "not_accepted = (dfBar['Y'] == 0).sum()\n",
        "print(f\"Accepted: {accepted}\")\n",
        "print(f\"Not accepted: {not_accepted}\")"
      ]
    },
    {
      "cell_type": "markdown",
      "metadata": {
        "id": "85nA_iEi_qRK"
      },
      "source": [
        "3. Compare the acceptance rate between those who went to a bar 3 or fewer times a month to those who went more.\n"
      ]
    },
    {
      "cell_type": "code",
      "execution_count": 103,
      "metadata": {
        "id": "LBOrN-XM_qRK"
      },
      "outputs": [
        {
          "name": "stdout",
          "output_type": "stream",
          "text": [
            "1732\n",
            "196\n",
            "Low bar acceptance count: 649\n",
            "High bar acceptance count: 150\n"
          ]
        }
      ],
      "source": [
        "low_bar = dfBar[(dfBar['Bar'] == 'less1') | (dfBar['Bar'] == '1~3') | (dfBar['Bar'] == 'never')]\n",
        "high_bar = dfBar[(dfBar['Bar'] == '4~8') | (dfBar['Bar'] == 'gt8')]\n",
        "print(len(low_bar))#Total of 1732 entries with low bar visit frequency\n",
        "print(len(high_bar))#Total of 196 entries with high bar visit frequency\n",
        "low_bar_acceptance = (low_bar['Y'] == 1).sum()\n",
        "high_bar_acceptance = (high_bar['Y'] == 1).sum()\n",
        "print(f\"Low bar acceptance count: {low_bar_acceptance}\")\n",
        "print(f\"High bar acceptance count: {high_bar_acceptance}\")\n",
        "#So, we can see that people who visit bar more frequently are 40% more likely to accept Bar coupons compared to people who went to bar 3 or fewer times a month."
      ]
    },
    {
      "cell_type": "markdown",
      "metadata": {
        "id": "RBgcQwH4_qRK"
      },
      "source": [
        "4. Compare the acceptance rate between drivers who go to a bar more than once a month and are over the age of 25 to the all others.  Is there a difference?\n"
      ]
    },
    {
      "cell_type": "code",
      "execution_count": 104,
      "metadata": {
        "id": "bf28bbeX_qRK"
      },
      "outputs": [
        {
          "name": "stdout",
          "output_type": "stream",
          "text": [
            "582\n",
            "Over Age 25 : 410\n",
            "Under Age 25 : 172\n",
            "Over 25 age acceptance count: 283\n",
            "Under 25 age acceptance count: 117\n",
            "Acceptance rate for over 25 age: 0.69\n",
            "Acceptance rate for under 25 age: 0.68\n"
          ]
        }
      ],
      "source": [
        "str_more_than_once = ['1~3', '4~8', 'gt8']\n",
        "str_more_than_three = ['4~8', 'gt8']\n",
        "str_less_than_once = ['never', 'less1']\n",
        "above25Age = ['26', '31', '36', '41', '46', '50plus']\n",
        "below25Age = ['21', 'below21']\n",
        "\n",
        "barMoreThanOnce = dfBar[dfBar['Bar'].isin(str_more_than_once)]\n",
        "print(len(barMoreThanOnce))#Total of 582 entries with bar visit frequency more than once a month\n",
        "\n",
        "\n",
        "over25Age = barMoreThanOnce[barMoreThanOnce['age'].isin(above25Age)]\n",
        "print(f\"Over Age 25 : {len(over25Age)}\")#Total of 1928 entries with age over 25\n",
        "\n",
        "under25Age = barMoreThanOnce[barMoreThanOnce['age'].isin(below25Age)]\n",
        "print(f\"Under Age 25 : {len(under25Age)}\")#Total of 0 entries with age under or equal to 25\n",
        "\n",
        "over25AgeAcceptance = (over25Age['Y'] == 1).sum()\n",
        "print(f\"Over 25 age acceptance count: {over25AgeAcceptance}\")\n",
        "under25AgeAcceptance = (under25Age['Y'] == 1).sum()\n",
        "print(f\"Under 25 age acceptance count: {under25AgeAcceptance}\")\n",
        "acceptanceRateOver25 = over25AgeAcceptance / len(over25Age)\n",
        "acceptanceRateUnder25 = under25AgeAcceptance / len(under25Age) \n",
        "print(f\"Acceptance rate for over 25 age: {acceptanceRateOver25:.2f}\")\n",
        "print(f\"Acceptance rate for under 25 age: {acceptanceRateUnder25:.2f}\")\n",
        "#So, we can see that people are more or less same in accepting Bar coupons irrespective of age group.\n"
      ]
    },
    {
      "cell_type": "markdown",
      "metadata": {
        "id": "S4RKT4PJ_qRK"
      },
      "source": [
        "5. Use the same process to compare the acceptance rate between drivers who go to bars more than once a month and had passengers that were not a kid and had occupations other than farming, fishing, or forestry.\n"
      ]
    },
    {
      "cell_type": "code",
      "execution_count": 105,
      "metadata": {
        "id": "sENaI2Tg_qRK"
      },
      "outputs": [
        {
          "name": "stdout",
          "output_type": "stream",
          "text": [
            "Acceptance count without Fishing occupation: 383\n",
            "Acceptance rate without Fishing occupation: 0.71\n"
          ]
        }
      ],
      "source": [
        "str_kids = ['Kid(s)']\n",
        "df_withoutKid = barMoreThanOnce[~barMoreThanOnce['passanger'].isin(str_kids)]\n",
        "#print(len(df_withoutKid))#Total of 538 entries with bar visit frequency more than once a month and with no kids as passangers.\n",
        "\n",
        "str_occupation_fishing = ['Farming Fishing & Forestry']\n",
        "df_withoutFishing = df_withoutKid[~df_withoutKid['occupation'].isin(str_occupation_fishing)]\n",
        "#print(len(df_withoutFishing))#Total of 537 entries with bar visit frequency more than once a month, with no kids as passangers and with occupation other than Farming Fishing & Forestry.\n",
        "acceptance_withoutFishing = (df_withoutFishing['Y'] == 1).sum()\n",
        "print(f\"Acceptance count without Fishing occupation: {acceptance_withoutFishing}\")\n",
        "acceptanceRate_withoutFishing = acceptance_withoutFishing / len(df_withoutFishing)\n",
        "print(f\"Acceptance rate without Fishing occupation: {acceptanceRate_withoutFishing:.2f}\")   "
      ]
    },
    {
      "cell_type": "markdown",
      "metadata": {
        "id": "n2LIUTil_qRK"
      },
      "source": [
        "6. Compare the acceptance rates between those drivers who:\n",
        "\n",
        "- go to bars more than once a month, had passengers that were not a kid, and were not widowed *OR*\n",
        "- go to bars more than once a month and are under the age of 30 *OR*\n",
        "- go to cheap restaurants more than 4 times a month and income is less than 50K.\n",
        "\n"
      ]
    },
    {
      "cell_type": "code",
      "execution_count": 113,
      "metadata": {
        "id": "aK_wEzx7_qRK"
      },
      "outputs": [
        {
          "name": "stdout",
          "output_type": "stream",
          "text": [
            "538\n",
            "Acceptance count without widowed: 383\n",
            "Acceptance rate without widowed: 0.71\n",
            "334\n",
            "Acceptance count with age under 30: 241\n",
            "Acceptance rate with age under 30: 0.72\n",
            "287\n",
            "Acceptance count with bar visit frequency more than 4 times a month: 204\n",
            "Acceptance rate with bar visit frequency more than 4 times a month: 0.71\n",
            "127\n",
            "Acceptance count with income less than 50K: 98\n",
            "Acceptance rate with income less than 50K: 0.77\n"
          ]
        }
      ],
      "source": [
        "marital_status_widowed = ['Widowed']\n",
        "under_30_age = ['21', 'below21', '26']\n",
        "df_widowed = df_withoutKid[~df_withoutKid['maritalStatus'].isin(marital_status_widowed)]\n",
        "print(len(df_widowed))\n",
        "acceptance_widowed = (df_widowed['Y'] == 1).sum()\n",
        "print(f\"Acceptance count without widowed: {acceptance_widowed}\")\n",
        "#Total of 538 entries with bar visit frequency more than once a month and with no kids as passangers and were not widowed.\n",
        "acceptanceRate_widowed = acceptance_widowed / len(df_widowed)\n",
        "print(f\"Acceptance rate without widowed: {acceptanceRate_widowed:.2f}\")\n",
        "\n",
        "df_under30 = barMoreThanOnce[barMoreThanOnce['age'].isin(under_30_age)]\n",
        "print(len(df_under30))\n",
        "acceptance_under30 = (df_under30['Y'] == 1).sum()\n",
        "print(f\"Acceptance count with age under 30: {acceptance_under30}\")\n",
        "#Total of 334 entries with bar visit frequency more than once a month and age under 30.\n",
        "acceptanceRate_under30 = acceptance_under30 / len(df_under30)\n",
        "print(f\"Acceptance rate with age under 30: {acceptanceRate_under30:.2f}\")\n",
        "\n",
        "more_than_4_times = ['4~8', 'gt8']\n",
        "df_moreThan4Times = barMoreThanOnce[barMoreThanOnce['RestaurantLessThan20'].isin(more_than_4_times)]\n",
        "print(len(df_moreThan4Times))#Total of 112 entries with bar visit frequency more than 4 times a month and age under 30.\n",
        "acceptance_moreThan4Times = (df_moreThan4Times['Y'] == 1).sum()\n",
        "print(f\"Acceptance count with bar visit frequency more than 4 times a month: {acceptance_moreThan4Times}\")\n",
        "acceptanceRate_moreThan4Times = acceptance_moreThan4Times / len(df_moreThan4Times)\n",
        "print(f\"Acceptance rate with bar visit frequency more than 4 times a month: {acceptanceRate_moreThan4Times:.2f}\")\n",
        "\n",
        "income_less_than_50k = [0, 1, 2, 3]\n",
        "df_incomeLessThan50k = df_moreThan4Times[df_moreThan4Times['income'].isin(income_less_than_50k)]\n",
        "print(len(df_incomeLessThan50k))#Total of 127 entries with bar visit frequency more than 4 times a month and income less than 50K.\n",
        "acceptance_incomeLessThan50k = (df_incomeLessThan50k['Y'] == 1).sum()\n",
        "print(f\"Acceptance count with income less than 50K: {acceptance_incomeLessThan50k}\")\n",
        "acceptanceRate_incomeLessThan50k = acceptance_incomeLessThan50k / len(df_incomeLessThan50k)\n",
        "print(f\"Acceptance rate with income less than 50K: {acceptanceRate_incomeLessThan50k:.2f}\")\n",
        "\n"
      ]
    },
    {
      "cell_type": "markdown",
      "metadata": {
        "id": "v3fL3QkO_qRK"
      },
      "source": [
        "7.  Based on these observations, what do you hypothesize about drivers who accepted the bar coupons?"
      ]
    },
    {
      "cell_type": "code",
      "execution_count": null,
      "metadata": {
        "id": "Y48naDFh_qRL"
      },
      "outputs": [],
      "source": [
        "#Drivers with income less than 50K are most likely to accept Bar coupons.\n",
        "#Also drivers who visited bar more than 4 times a month are more likely to accept Bar coupons.\n",
        "#Also drivers under age 30 are more likely to accept Bar coupons.\n",
        "#And drivers with adults passangers who are not widowed are more likely to accept Bar coupons."
      ]
    },
    {
      "cell_type": "markdown",
      "metadata": {
        "id": "r4Hu1zOb_qRL"
      },
      "source": [
        "### Independent Investigation\n",
        "\n",
        "Using the bar coupon example as motivation, you are to explore one of the other coupon groups and try to determine the characteristics of passengers who accept the coupons.  "
      ]
    },
    {
      "cell_type": "code",
      "execution_count": null,
      "metadata": {
        "id": "0c71cQhu_qRL"
      },
      "outputs": [],
      "source": []
    },
    {
      "cell_type": "code",
      "execution_count": null,
      "metadata": {
        "id": "QEsBkvIN_qRL"
      },
      "outputs": [],
      "source": []
    }
  ],
  "metadata": {
    "colab": {
      "provenance": []
    },
    "kernelspec": {
      "display_name": "Python 3",
      "language": "python",
      "name": "python3"
    },
    "language_info": {
      "codemirror_mode": {
        "name": "ipython",
        "version": 3
      },
      "file_extension": ".py",
      "mimetype": "text/x-python",
      "name": "python",
      "nbconvert_exporter": "python",
      "pygments_lexer": "ipython3",
      "version": "3.13.6"
    }
  },
  "nbformat": 4,
  "nbformat_minor": 0
}
